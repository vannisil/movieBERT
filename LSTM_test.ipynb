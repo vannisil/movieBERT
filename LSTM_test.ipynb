{
  "cells": [
    {
      "cell_type": "markdown",
      "metadata": {
        "id": "zb3CfnPrc3p1"
      },
      "source": [
        "Montiamo Google Drive"
      ]
    },
    {
      "cell_type": "code",
      "execution_count": 1,
      "metadata": {
        "colab": {
          "base_uri": "https://localhost:8080/"
        },
        "id": "XrsUdH7_c6dh",
        "outputId": "f2863c53-255b-4976-96a1-0a6555f9cea8"
      },
      "outputs": [
        {
          "output_type": "stream",
          "name": "stdout",
          "text": [
            "Mounted at /content/drive\n"
          ]
        }
      ],
      "source": [
        "from google.colab import drive\n",
        "drive.mount('/content/drive')"
      ]
    },
    {
      "cell_type": "markdown",
      "metadata": {
        "id": "SD2YpRH0X4Kb"
      },
      "source": [
        "Lavoriamo sul dataset (Dataset già preprocessato e settato)"
      ]
    },
    {
      "cell_type": "code",
      "execution_count": 17,
      "metadata": {
        "id": "uKLscEURX7JU"
      },
      "outputs": [],
      "source": [
        "import pandas as pd\n",
        "from keras.preprocessing.text import Tokenizer\n",
        "from keras.preprocessing.sequence import pad_sequences\n",
        "from sklearn.preprocessing import LabelEncoder\n",
        "\n",
        "# Leggiamo il nostro dataset (già pulito)\n",
        "df = pd.read_csv('/content/drive/MyDrive/Database/filtered_mt.csv');\n",
        "\n",
        "# Estrazione delle descrizioni dei film e dei tag corrispondenti\n",
        "texts = df['plot_synopsis'].tolist()\n",
        "labels = df['tags'].tolist()\n",
        "\n",
        "# Inizializzazione del Tokenizer\n",
        "tokenizer = Tokenizer(num_words=5000)\n",
        "# Inizializzazione del Tokenizer e adattamento ai tuoi dati\n",
        "tokenizer.fit_on_texts(texts)\n",
        "\n",
        "# Trasformazione del testo in sequenze di interi\n",
        "sequences = tokenizer.texts_to_sequences(texts)\n",
        "\n",
        "# Padding delle sequenze per garantire la stessa lunghezza\n",
        "X = pad_sequences(sequences, maxlen=500)\n",
        "\n",
        "# Codifica dei tag come interi\n",
        "encoder = LabelEncoder()\n",
        "y = encoder.fit_transform(labels)"
      ]
    },
    {
      "cell_type": "code",
      "execution_count": 19,
      "metadata": {
        "id": "Thk5sctYUnBR",
        "colab": {
          "base_uri": "https://localhost:8080/"
        },
        "outputId": "e78bae22-ce1e-48e2-9c8a-604422ccc154"
      },
      "outputs": [
        {
          "output_type": "stream",
          "name": "stdout",
          "text": [
            "Epoch 1/10\n",
            "73/73 [==============================] - ETA: 0s - loss: 1.4999 - accuracy: 0.3476\n",
            "Epoch 1: accuracy improved from -inf to 0.34764, saving model to best_model.h5\n",
            "73/73 [==============================] - 16s 198ms/step - loss: 1.4999 - accuracy: 0.3476 - val_loss: 1.4868 - val_accuracy: 0.3173\n",
            "Epoch 2/10\n",
            " 1/73 [..............................] - ETA: 1s - loss: 1.4441 - accuracy: 0.2812"
          ]
        },
        {
          "output_type": "stream",
          "name": "stderr",
          "text": [
            "/usr/local/lib/python3.10/dist-packages/keras/src/engine/training.py:3103: UserWarning: You are saving your model as an HDF5 file via `model.save()`. This file format is considered legacy. We recommend using instead the native Keras format, e.g. `model.save('my_model.keras')`.\n",
            "  saving_api.save_model(\n"
          ]
        },
        {
          "output_type": "stream",
          "name": "stdout",
          "text": [
            "73/73 [==============================] - ETA: 0s - loss: 1.3879 - accuracy: 0.3991\n",
            "Epoch 2: accuracy improved from 0.34764 to 0.39914, saving model to best_model.h5\n",
            "73/73 [==============================] - 10s 133ms/step - loss: 1.3879 - accuracy: 0.3991 - val_loss: 1.4392 - val_accuracy: 0.3431\n",
            "Epoch 3/10\n",
            "73/73 [==============================] - ETA: 0s - loss: 1.0441 - accuracy: 0.5931\n",
            "Epoch 3: accuracy improved from 0.39914 to 0.59313, saving model to best_model.h5\n",
            "73/73 [==============================] - 9s 119ms/step - loss: 1.0441 - accuracy: 0.5931 - val_loss: 1.3812 - val_accuracy: 0.4614\n",
            "Epoch 4/10\n",
            "73/73 [==============================] - ETA: 0s - loss: 0.7260 - accuracy: 0.7262\n",
            "Epoch 4: accuracy improved from 0.59313 to 0.72618, saving model to best_model.h5\n",
            "73/73 [==============================] - 6s 82ms/step - loss: 0.7260 - accuracy: 0.7262 - val_loss: 1.4685 - val_accuracy: 0.4717\n",
            "Epoch 5/10\n",
            "73/73 [==============================] - ETA: 0s - loss: 0.4697 - accuracy: 0.8348\n",
            "Epoch 5: accuracy improved from 0.72618 to 0.83476, saving model to best_model.h5\n",
            "73/73 [==============================] - 6s 75ms/step - loss: 0.4697 - accuracy: 0.8348 - val_loss: 1.6111 - val_accuracy: 0.4597\n",
            "Epoch 6/10\n",
            "72/73 [============================>.] - ETA: 0s - loss: 0.3369 - accuracy: 0.8876\n",
            "Epoch 6: accuracy improved from 0.83476 to 0.88627, saving model to best_model.h5\n",
            "73/73 [==============================] - 3s 46ms/step - loss: 0.3389 - accuracy: 0.8863 - val_loss: 1.7768 - val_accuracy: 0.4614\n",
            "Epoch 7/10\n",
            "73/73 [==============================] - ETA: 0s - loss: 0.2038 - accuracy: 0.9391\n",
            "Epoch 7: accuracy improved from 0.88627 to 0.93906, saving model to best_model.h5\n",
            "73/73 [==============================] - 3s 46ms/step - loss: 0.2038 - accuracy: 0.9391 - val_loss: 2.0519 - val_accuracy: 0.4237\n",
            "Epoch 8/10\n",
            "73/73 [==============================] - ETA: 0s - loss: 0.1216 - accuracy: 0.9665\n",
            "Epoch 8: accuracy improved from 0.93906 to 0.96652, saving model to best_model.h5\n",
            "73/73 [==============================] - 4s 52ms/step - loss: 0.1216 - accuracy: 0.9665 - val_loss: 2.1914 - val_accuracy: 0.4220\n",
            "Epoch 9/10\n",
            "73/73 [==============================] - ETA: 0s - loss: 0.0850 - accuracy: 0.9811\n",
            "Epoch 9: accuracy improved from 0.96652 to 0.98112, saving model to best_model.h5\n",
            "73/73 [==============================] - 3s 40ms/step - loss: 0.0850 - accuracy: 0.9811 - val_loss: 2.3093 - val_accuracy: 0.4305\n",
            "Epoch 10/10\n",
            "73/73 [==============================] - ETA: 0s - loss: 0.0821 - accuracy: 0.9790\n",
            "Epoch 10: accuracy did not improve from 0.98112\n",
            "73/73 [==============================] - 2s 29ms/step - loss: 0.0821 - accuracy: 0.9790 - val_loss: 2.2971 - val_accuracy: 0.4322\n"
          ]
        },
        {
          "output_type": "execute_result",
          "data": {
            "text/plain": [
              "<keras.src.callbacks.History at 0x7c4f192fad40>"
            ]
          },
          "metadata": {},
          "execution_count": 19
        }
      ],
      "source": [
        "# Importazione delle librerie necessarie\n",
        "from keras.models import Sequential\n",
        "from keras.layers import Dense, Embedding, LSTM\n",
        "from keras.preprocessing.text import Tokenizer\n",
        "from keras.preprocessing.sequence import pad_sequences\n",
        "from keras.callbacks import ModelCheckpoint\n",
        "\n",
        "# Definizione dei tag\n",
        "tags = [\"murder\", \"romantic\", \"violence\", \"psychedelic\", \"comedy\"]\n",
        "\n",
        "# Creazione del modello\n",
        "model = Sequential()\n",
        "model.add(Embedding(5000, 64, input_length=500))\n",
        "model.add(LSTM(64))\n",
        "model.add(Dense(5, activation='softmax'))\n",
        "\n",
        "# Compilazione del modello\n",
        "model.compile(optimizer='adam', loss='sparse_categorical_crossentropy', metrics=['accuracy'])\n",
        "\n",
        "checkpoint = ModelCheckpoint('best_model.h5', monitor='accuracy', verbose=1, save_best_only=True, mode='max')\n",
        "\n",
        "# Addestramento del modello\n",
        "model.fit(X, y, epochs=10, validation_split=0.2, callbacks=[checkpoint])\n"
      ]
    },
    {
      "cell_type": "markdown",
      "source": [
        "Testing model"
      ],
      "metadata": {
        "id": "2O1jjvG_qSJr"
      }
    },
    {
      "cell_type": "code",
      "source": [
        "from keras.models import load_model\n",
        "import numpy as np\n",
        "\n",
        "# Caricamento del modello\n",
        "model = load_model('best_model.h5')\n",
        "\n",
        "# Creazione della sequenza di testo\n",
        "test_text1 = [\"\\\"Rocky\\\" is a 1976 American sports drama film written and starring Sylvester Stallone. The film follows the story of Rocky Balboa, a small-time boxer from Philadelphia, who gets a shot at the world heavyweight championship. Despite being an underdog, Rocky seizes the opportunity to train rigorously and face the reigning champion, Apollo Creed, in a match that becomes a symbol of determination and the human spirit.\"]\n",
        "test_text2 = [\"“La Dolce Vita” is an iconic masterpiece that takes you back to 1960’s Rome, exploring the sweet and sinful life of the city’s high society1. The film stars the dashing Marcello Mastroianni and the captivating Anita Ekberg1. The story follows Marcello Rubini, a jaded journalist seeking to uncover the true essence of love and happiness amidst the glamour and sensuality of the Italian capital1. The film is a cinematic marvel that earned the prestigious Palme d’Or at the 1960 Cannes Film Festival and helped to popularize the term “paparazzi” in global culture1. As you watch, you’ll be drawn into the hedonistic world of Italy’s elite and the heart of Rome’s enchanting nightlife1.\"]\n",
        "# Trasformazione del testo in una sequenza di interi\n",
        "test_seq1 = tokenizer.texts_to_sequences(test_text1)\n",
        "test_seq2 = tokenizer.texts_to_sequences(test_text2)\n",
        "\n",
        "# Applicazione del padding alla sequenza\n",
        "test_seq1 = pad_sequences(test_seq1, maxlen=500)\n",
        "test_seq2 = pad_sequences(test_seq2, maxlen=500)\n",
        "\n",
        "# Ottenimento delle previsioni dal modello\n",
        "predictions1 = model.predict(test_seq1)\n",
        "predictions2 = model.predict(test_seq2)\n",
        "\n",
        "# Ottenimento dell'indice del tag con la probabilità più alta\n",
        "predicted_index1 = np.argmax(predictions1, axis=-1)\n",
        "predicted_index2 = np.argmax(predictions2, axis=-1)\n",
        "\n",
        "# Decodifica dell'indice per ottenere il tag corrispondente\n",
        "predicted_tag1 = encoder.inverse_transform(predicted_index1)\n",
        "print(test_text1)\n",
        "print(f\"Tag: {predicted_tag1}\")\n",
        "predicted_tag2 = encoder.inverse_transform(predicted_index2)\n",
        "print(test_text2)\n",
        "print(f\"Tag: {predicted_tag2}\")"
      ],
      "metadata": {
        "colab": {
          "base_uri": "https://localhost:8080/"
        },
        "id": "ruzqNEfhqT3w",
        "outputId": "34df6901-ba79-49bb-ebaa-a40b2df303de"
      },
      "execution_count": 27,
      "outputs": [
        {
          "output_type": "stream",
          "name": "stdout",
          "text": [
            "1/1 [==============================] - 0s 351ms/step\n",
            "1/1 [==============================] - 0s 21ms/step\n",
            "['\"Rocky\" is a 1976 American sports drama film written and starring Sylvester Stallone. The film follows the story of Rocky Balboa, a small-time boxer from Philadelphia, who gets a shot at the world heavyweight championship. Despite being an underdog, Rocky seizes the opportunity to train rigorously and face the reigning champion, Apollo Creed, in a match that becomes a symbol of determination and the human spirit.']\n",
            "Tag: ['violence']\n",
            "['“La Dolce Vita” is an iconic masterpiece that takes you back to 1960’s Rome, exploring the sweet and sinful life of the city’s high society1. The film stars the dashing Marcello Mastroianni and the captivating Anita Ekberg1. The story follows Marcello Rubini, a jaded journalist seeking to uncover the true essence of love and happiness amidst the glamour and sensuality of the Italian capital1. The film is a cinematic marvel that earned the prestigious Palme d’Or at the 1960 Cannes Film Festival and helped to popularize the term “paparazzi” in global culture1. As you watch, you’ll be drawn into the hedonistic world of Italy’s elite and the heart of Rome’s enchanting nightlife1.']\n",
            "Tag: ['romantic']\n"
          ]
        }
      ]
    }
  ],
  "metadata": {
    "accelerator": "GPU",
    "colab": {
      "provenance": []
    },
    "kernelspec": {
      "display_name": "Python 3",
      "name": "python3"
    },
    "language_info": {
      "name": "python"
    }
  },
  "nbformat": 4,
  "nbformat_minor": 0
}